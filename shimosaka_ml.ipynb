{
 "cells": [
  {
   "cell_type": "markdown",
   "metadata": {},
   "source": [
    "# ART.T458 Machine Learning Midterm Assignment\n",
    "18M31289 松丸和樹"
   ]
  },
  {
   "cell_type": "code",
   "execution_count": 1,
   "metadata": {},
   "outputs": [],
   "source": [
    "import math\n",
    "import numpy as np"
   ]
  },
  {
   "cell_type": "markdown",
   "metadata": {},
   "source": [
    "### Toy Dataset"
   ]
  },
  {
   "cell_type": "code",
   "execution_count": 419,
   "metadata": {},
   "outputs": [
    {
     "data": {
      "text/plain": [
       "array([-1,  1,  1,  1, -1, -1,  1,  1,  1,  1, -1,  1, -1,  1, -1,  1,  1,\n",
       "       -1, -1,  1, -1, -1,  1,  1,  1,  1, -1, -1,  1, -1,  1,  1,  1, -1,\n",
       "        1, -1,  1, -1, -1,  1])"
      ]
     },
     "execution_count": 419,
     "metadata": {},
     "output_type": "execute_result"
    }
   ],
   "source": [
    "from numpy.random import randn\n",
    "\n",
    "\n",
    "n = 40\n",
    "omega = randn(1, 1)\n",
    "noise = 0.8 * randn(n, 1)\n",
    "x = randn(n, 2)\n",
    "y = 2 * (sum(omega * x[:, 0] + x[:, 1] + noise) > 0) - 1\n",
    "y"
   ]
  },
  {
   "cell_type": "markdown",
   "metadata": {},
   "source": [
    "## Problem 1"
   ]
  },
  {
   "cell_type": "code",
   "execution_count": 435,
   "metadata": {},
   "outputs": [],
   "source": [
    "def J(w, lam=0.01):\n",
    "    summed = sum([\n",
    "        math.log(1+np.exp(-yi*(w.T@xi)))\n",
    "        for xi, yi in zip(x, y)\n",
    "    ])\n",
    "    return summed + lam * w.T@w"
   ]
  },
  {
   "cell_type": "code",
   "execution_count": 436,
   "metadata": {},
   "outputs": [],
   "source": [
    "def dJ(w, lam=0.01):\n",
    "    summed = sum([\n",
    "        np.exp(-yi*(w.T@xi))*(-yi*xi) / (1+np.exp(-yi*w.T@xi))\n",
    "        for xi, yi in zip(x, y)\n",
    "    ])\n",
    "    value = 1/n * summed + 2*lam*w\n",
    "    return value"
   ]
  },
  {
   "cell_type": "code",
   "execution_count": 437,
   "metadata": {},
   "outputs": [],
   "source": [
    "def d2J(w, lam=0.01):\n",
    "    I = np.eye(len(w))\n",
    "    summed = sum([\n",
    "        ((np.exp(-yi*w.T@xi) / (1+np.exp(-yi*w.T@xi))**2))*(xi@xi.T)\n",
    "        for xi, yi in zip(x, y)\n",
    "    ])\n",
    "    value = 1/n * summed + 2*lam*I\n",
    "    return value"
   ]
  },
  {
   "cell_type": "code",
   "execution_count": 442,
   "metadata": {},
   "outputs": [],
   "source": [
    "w1 = randn(2)\n",
    "w2 = np.copy(w1)\n",
    "lr=0.1"
   ]
  },
  {
   "cell_type": "code",
   "execution_count": 443,
   "metadata": {},
   "outputs": [
    {
     "name": "stdout",
     "output_type": "stream",
     "text": [
      "0 th: 43.31237255602162\n",
      "1 th: 42.03091156602143\n",
      "2 th: 40.79729177089325\n",
      "3 th: 39.6111721507771\n",
      "4 th: 38.472044096934304\n",
      "5 th: 37.379238580430155\n",
      "6 th: 36.33193606058959\n",
      "7 th: 35.32917876721139\n",
      "8 th: 34.36988490935607\n",
      "9 th: 33.452864311061155\n"
     ]
    }
   ],
   "source": [
    "for t in range(10):\n",
    "    w1 -= lr*dJ(w1)\n",
    "    print(t, 'th:', J(w1))"
   ]
  },
  {
   "cell_type": "code",
   "execution_count": 444,
   "metadata": {},
   "outputs": [
    {
     "name": "stdout",
     "output_type": "stream",
     "text": [
      "0 th: 40.12611276484726\n",
      "1 th: 38.38879005982683\n",
      "2 th: 36.81459727480377\n",
      "3 th: 35.37423982868419\n",
      "4 th: 34.05209659111762\n",
      "5 th: 32.834497270353594\n",
      "6 th: 31.70965271699754\n",
      "7 th: 30.667420696018482\n",
      "8 th: 29.699047094764335\n",
      "9 th: 28.796945586421376\n"
     ]
    }
   ],
   "source": [
    "for t in range(10):\n",
    "    H = d2J(w2)\n",
    "    w2 -= lr*np.linalg.inv(H)@dJ(w2)\n",
    "    print(t, 'th:', J(w2))"
   ]
  },
  {
   "cell_type": "markdown",
   "metadata": {},
   "source": [
    "## Problem 9"
   ]
  },
  {
   "cell_type": "code",
   "execution_count": 446,
   "metadata": {},
   "outputs": [],
   "source": [
    "import pandas as pd\n",
    "from sklearn import datasets, model_selection, metrics\n",
    "\n",
    "\n",
    "iris = datasets.load_iris()\n",
    "iris_data = pd.DataFrame(data=iris.data, columns=iris.feature_names)\n",
    "iris_label = pd.Series(data=iris.target)\n",
    "\n",
    "x_train, x_test, y_train, y_test = model_selection.train_test_split(iris_data, iris_label)"
   ]
  },
  {
   "cell_type": "code",
   "execution_count": 447,
   "metadata": {},
   "outputs": [
    {
     "data": {
      "text/plain": [
       "0.9473684210526315"
      ]
     },
     "execution_count": 447,
     "metadata": {},
     "output_type": "execute_result"
    }
   ],
   "source": [
    "from sklearn.linear_model import LogisticRegression\n",
    "\n",
    "clf = LogisticRegression()\n",
    "clf.fit(x_train, y_train)\n",
    "pred = clf.predict(x_test)\n",
    "metrics.accuracy_score(y_test, pred)"
   ]
  },
  {
   "cell_type": "code",
   "execution_count": 448,
   "metadata": {},
   "outputs": [
    {
     "data": {
      "text/plain": [
       "0.9473684210526315"
      ]
     },
     "execution_count": 448,
     "metadata": {},
     "output_type": "execute_result"
    }
   ],
   "source": [
    "from sklearn import svm\n",
    "\n",
    "clf = svm.SVC()\n",
    "clf.fit(x_train, y_train)\n",
    "pred = clf.predict(x_test)\n",
    "metrics.accuracy_score(y_test, pred)"
   ]
  },
  {
   "cell_type": "code",
   "execution_count": 449,
   "metadata": {},
   "outputs": [
    {
     "data": {
      "text/plain": [
       "0.9473684210526315"
      ]
     },
     "execution_count": 449,
     "metadata": {},
     "output_type": "execute_result"
    }
   ],
   "source": [
    "from sklearn.neighbors import KNeighborsClassifier\n",
    "\n",
    "clf = KNeighborsClassifier(n_neighbors=3)\n",
    "clf.fit(x_train, y_train)\n",
    "pred = clf.predict(x_test)\n",
    "metrics.accuracy_score(y_test, pred)"
   ]
  },
  {
   "cell_type": "code",
   "execution_count": 450,
   "metadata": {},
   "outputs": [
    {
     "data": {
      "text/plain": [
       "0.6842105263157895"
      ]
     },
     "execution_count": 450,
     "metadata": {},
     "output_type": "execute_result"
    }
   ],
   "source": [
    "from sklearn.linear_model import SGDClassifier\n",
    "\n",
    "clf = SGDClassifier(loss=\"modified_huber\", penalty=\"l2\",  max_iter=10000, tol=1e-2)\n",
    "clf.fit(x_train, y_train)\n",
    "pred = clf.predict(x_test)\n",
    "metrics.accuracy_score(y_test, pred)"
   ]
  }
 ],
 "metadata": {
  "kernelspec": {
   "display_name": "Python 3",
   "language": "python",
   "name": "python3"
  },
  "language_info": {
   "codemirror_mode": {
    "name": "ipython",
    "version": 3
   },
   "file_extension": ".py",
   "mimetype": "text/x-python",
   "name": "python",
   "nbconvert_exporter": "python",
   "pygments_lexer": "ipython3",
   "version": "3.6.5"
  }
 },
 "nbformat": 4,
 "nbformat_minor": 2
}
